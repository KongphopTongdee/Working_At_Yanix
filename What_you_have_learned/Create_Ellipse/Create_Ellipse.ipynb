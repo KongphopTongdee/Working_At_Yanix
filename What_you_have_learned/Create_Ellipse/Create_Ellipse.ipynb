{
 "cells": [
  {
   "attachments": {},
   "cell_type": "markdown",
   "metadata": {},
   "source": [
    "# Setup Code"
   ]
  },
  {
   "cell_type": "code",
   "execution_count": 2,
   "metadata": {},
   "outputs": [],
   "source": [
    "import numpy as np\n",
    "import cv2\n",
    "import matplotlib.pyplot as plt\n",
    "import shutil\n",
    "import math\n",
    "from PIL import Image, ImageDraw"
   ]
  },
  {
   "cell_type": "code",
   "execution_count": 3,
   "metadata": {},
   "outputs": [],
   "source": [
    "def show_image_covert_color_to_RGB(picture):\n",
    "  picture = cv2.cvtColor(picture, cv2.COLOR_BGR2RGB)\n",
    "  plt.figure(figsize=(10,10))\n",
    "  plt.imshow(picture)\n",
    "  plt.axis(\"off\")\n",
    "  plt.show()"
   ]
  },
  {
   "cell_type": "code",
   "execution_count": 4,
   "metadata": {},
   "outputs": [],
   "source": [
    "def ResizeWithAspectRatio(image, width=None, height=None, inter=cv2.INTER_AREA):\n",
    "    dim = None\n",
    "    (h, w) = image.shape[:2]\n",
    "\n",
    "    if width is None and height is None:\n",
    "        return image\n",
    "    if width is None:\n",
    "        r = height / float(h)\n",
    "        dim = (int(w * r), height)\n",
    "    else:\n",
    "        r = width / float(w)\n",
    "        dim = (width, int(h * r))\n",
    "\n",
    "    return cv2.resize(image, dim, interpolation=inter)"
   ]
  },
  {
   "cell_type": "code",
   "execution_count": 14,
   "metadata": {},
   "outputs": [],
   "source": [
    "def show_image_on_window(picture,name):\n",
    "    cv2.namedWindow(winname= name)\n",
    "    cv2.imshow(name,picture)\n",
    "    cv2.waitKey(0)\n",
    "    cv2.destroyAllWindows()"
   ]
  },
  {
   "cell_type": "code",
   "execution_count": null,
   "metadata": {},
   "outputs": [],
   "source": [
    "# Example Code\n",
    "# image = cv2.imread('img.png')\n",
    "# resize = ResizeWithAspectRatio(image, width=1280) # Resize by width OR\n",
    "# # resize = ResizeWithAspectRatio(image, height=1280) # Resize by height \n",
    "\n",
    "# cv2.imshow('resize', resize)\n",
    "# cv2.waitKey()"
   ]
  },
  {
   "attachments": {},
   "cell_type": "markdown",
   "metadata": {},
   "source": [
    "# Creating Ellipse"
   ]
  },
  {
   "attachments": {},
   "cell_type": "markdown",
   "metadata": {},
   "source": [
    "ทำการสร้างสมการที่รับเฉพาะจุดปลายมาแล้ว return ออกมาเป็นสมาการวงรี โดยใช้ opencv ในการรับ output cursor mouse"
   ]
  },
  {
   "cell_type": "code",
   "execution_count": 7,
   "metadata": {},
   "outputs": [],
   "source": [
    "# Picture_for_creating_ellipse = cv2.imread('wallpaper_neon_valley.jpg')\n",
    "\n",
    "# Picture_for_creating_ellipse_after_resize = cv2.resize(Picture_for_creating_ellipse, (1600,900))\n",
    "\n",
    "# cv2.imshow('Image_For_Creating_Ellipse',Picture_for_creating_ellipse_after_resize)\n",
    "# cv2.waitKey(0)\n",
    "# cv2.destroyAllWindows()"
   ]
  },
  {
   "cell_type": "code",
   "execution_count": 15,
   "metadata": {},
   "outputs": [],
   "source": [
    "Picture_for_creating_ellipse = cv2.imread('wallpaper_neon_valley.jpg')\n",
    "Picture_for_creating_ellipse_after_resize = cv2.resize(Picture_for_creating_ellipse, (1600,900))"
   ]
  },
  {
   "attachments": {},
   "cell_type": "markdown",
   "metadata": {},
   "source": [
    "Create on picture by inserting outside variable\n",
    "\n",
    "Reference : https://www.youtube.com/watch?v=SJqXiIAQUhY&list=RDCMUCv6Uw36LRbYnX4HDxKPguKg&start_radio=1&rv=SJqXiIAQUhY&t=577"
   ]
  },
  {
   "cell_type": "code",
   "execution_count": 16,
   "metadata": {},
   "outputs": [],
   "source": [
    "def Creating_ellipse_on_image_using_OpenCV(image, center_coordinates, axesLength, angle, startAngle, endAngle, color, thickness):\n",
    "  picture_after_drawing_ellipse = cv2.ellipse(image, center_coordinates, axesLength, angle, startAngle, endAngle, color, thickness)\n",
    "  return picture_after_drawing_ellipse"
   ]
  },
  {
   "cell_type": "code",
   "execution_count": 17,
   "metadata": {},
   "outputs": [],
   "source": [
    "output = Creating_ellipse_on_image_using_OpenCV(Picture_for_creating_ellipse_after_resize, (500, 500), (500, 250), 0, 0, 360, (0, 0, 255), 100)\n",
    "show_image_on_window(output, \"output\")"
   ]
  },
  {
   "cell_type": "code",
   "execution_count": 6,
   "metadata": {},
   "outputs": [],
   "source": [
    "# draw = False\n",
    "# ix, iy = -1,-1\n",
    "\n",
    "# def rectangle_shape(event,x,y,flagval,par):\n",
    "#     global draw,ix,iy\n",
    "    \n",
    "#     if event == cv2.EVENT_LBUTTONUP:\n",
    "#         draw = True\n",
    "#         ix,iy = x,y\n",
    "        \n",
    "#     elif event == cv2.EVENT_MOUSEMOVE:\n",
    "#         if draw == True:\n",
    "#             cv2.rectangle(image_window,(ix,iy),(x,y),(255,0,0),-1) \n",
    "            \n",
    "# image_window = np.zeros((1024,1024,3),np.uint8)\n",
    "\n",
    "# cv2.namedWindow(winname= 'Image_Window')\n",
    "\n",
    "# cv2.setMouseCallback('Image_Window', rectangle_shape)\n",
    "\n",
    "# while True:\n",
    "    \n",
    "#     cv2.imshow('Image_Window', image_window)\n",
    "    \n",
    "#     if cv2.waitKey(1) & 0xFF == 27:\n",
    "#         break\n",
    "    \n",
    "# cv2.destroyAllWindows()             "
   ]
  },
  {
   "attachments": {},
   "cell_type": "markdown",
   "metadata": {},
   "source": [
    "Create on picture by picture by inserting inside picture\n",
    "\n",
    "Reference : https://stackoverflow.com/questions/28327020/opencv-detect-mouse-position-clicking-over-a-picture"
   ]
  },
  {
   "cell_type": "code",
   "execution_count": null,
   "metadata": {},
   "outputs": [],
   "source": [
    "def draw_circle(event,x,y,flags,param):\n",
    "    global mouseX,mouseY\n",
    "    if event == cv2.EVENT_LBUTTONDBLCLK:\n",
    "        cv2.circle(img,(x,y),100,(255,0,0),-1)\n",
    "        mouseX,mouseY = x,y\n",
    "        \n",
    "img = np.zeros((512,512,3), np.uint8)\n",
    "cv2.namedWindow('image')\n",
    "cv2.setMouseCallback('image',draw_circle)\n",
    "\n",
    "while(1):\n",
    "    cv2.imshow('image',img)\n",
    "    k = cv2.waitKey(20) & 0xFF\n",
    "    if k == 27:\n",
    "        break\n",
    "    elif k == ord('a'):\n",
    "        print mouseX,mouseY"
   ]
  }
 ],
 "metadata": {
  "kernelspec": {
   "display_name": "Python 3",
   "language": "python",
   "name": "python3"
  },
  "language_info": {
   "codemirror_mode": {
    "name": "ipython",
    "version": 3
   },
   "file_extension": ".py",
   "mimetype": "text/x-python",
   "name": "python",
   "nbconvert_exporter": "python",
   "pygments_lexer": "ipython3",
   "version": "3.10.8"
  },
  "orig_nbformat": 4
 },
 "nbformat": 4,
 "nbformat_minor": 2
}
