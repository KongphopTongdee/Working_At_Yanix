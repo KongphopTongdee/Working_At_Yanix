{
 "cells": [
  {
   "attachments": {},
   "cell_type": "markdown",
   "metadata": {},
   "source": [
    "# Setup Code"
   ]
  },
  {
   "cell_type": "code",
   "execution_count": 2,
   "metadata": {},
   "outputs": [],
   "source": [
    "import numpy as np\n",
    "import cv2\n",
    "import matplotlib.pyplot as plt\n",
    "import shutil\n",
    "import math\n",
    "from PIL import Image, ImageDraw"
   ]
  },
  {
   "cell_type": "code",
   "execution_count": 3,
   "metadata": {},
   "outputs": [],
   "source": [
    "def show_image_covert_color_to_RGB(picture):\n",
    "  picture = cv2.cvtColor(picture, cv2.COLOR_BGR2RGB)\n",
    "  plt.figure(figsize=(10,10))\n",
    "  plt.imshow(picture)\n",
    "  plt.axis(\"off\")\n",
    "  plt.show()"
   ]
  },
  {
   "cell_type": "code",
   "execution_count": 4,
   "metadata": {},
   "outputs": [],
   "source": [
    "def ResizeWithAspectRatio(image, width=None, height=None, inter=cv2.INTER_AREA):\n",
    "    dim = None\n",
    "    (h, w) = image.shape[:2]\n",
    "\n",
    "    if width is None and height is None:\n",
    "        return image\n",
    "    if width is None:\n",
    "        r = height / float(h)\n",
    "        dim = (int(w * r), height)\n",
    "    else:\n",
    "        r = width / float(w)\n",
    "        dim = (width, int(h * r))\n",
    "\n",
    "    return cv2.resize(image, dim, interpolation=inter)"
   ]
  },
  {
   "cell_type": "code",
   "execution_count": 5,
   "metadata": {},
   "outputs": [],
   "source": [
    "def show_image_on_window(picture,name):\n",
    "    cv2.namedWindow(winname= name)\n",
    "    cv2.imshow(name,picture)\n",
    "    cv2.waitKey(0)\n",
    "    cv2.destroyAllWindows()"
   ]
  },
  {
   "cell_type": "code",
   "execution_count": null,
   "metadata": {},
   "outputs": [],
   "source": [
    "# Example Code\n",
    "# image = cv2.imread('img.png')\n",
    "# resize = ResizeWithAspectRatio(image, width=1280) # Resize by width OR\n",
    "# # resize = ResizeWithAspectRatio(image, height=1280) # Resize by height \n",
    "\n",
    "# cv2.imshow('resize', resize)\n",
    "# cv2.waitKey()"
   ]
  },
  {
   "attachments": {},
   "cell_type": "markdown",
   "metadata": {},
   "source": [
    "# Creating Ellipse"
   ]
  },
  {
   "attachments": {},
   "cell_type": "markdown",
   "metadata": {},
   "source": [
    "ทำการสร้างสมการที่รับเฉพาะจุดปลายมาแล้ว return ออกมาเป็นสมาการวงรี โดยใช้ opencv ในการรับ output cursor mouse"
   ]
  },
  {
   "cell_type": "code",
   "execution_count": 7,
   "metadata": {},
   "outputs": [],
   "source": [
    "# Picture_for_creating_ellipse = cv2.imread('wallpaper_neon_valley.jpg')\n",
    "\n",
    "# Picture_for_creating_ellipse_after_resize = cv2.resize(Picture_for_creating_ellipse, (1600,900))\n",
    "\n",
    "# cv2.imshow('Image_For_Creating_Ellipse',Picture_for_creating_ellipse_after_resize)\n",
    "# cv2.waitKey(0)\n",
    "# cv2.destroyAllWindows()"
   ]
  },
  {
   "cell_type": "code",
   "execution_count": 15,
   "metadata": {},
   "outputs": [],
   "source": [
    "Picture_for_creating_ellipse = cv2.imread('wallpaper_neon_valley.jpg')\n",
    "Picture_for_creating_ellipse_after_resize = cv2.resize(Picture_for_creating_ellipse, (1600,900))"
   ]
  },
  {
   "attachments": {},
   "cell_type": "markdown",
   "metadata": {},
   "source": [
    "Create on picture by inserting outside variable\n",
    "\n",
    "Reference : https://www.youtube.com/watch?v=SJqXiIAQUhY&list=RDCMUCv6Uw36LRbYnX4HDxKPguKg&start_radio=1&rv=SJqXiIAQUhY&t=577"
   ]
  },
  {
   "cell_type": "code",
   "execution_count": 16,
   "metadata": {},
   "outputs": [],
   "source": [
    "def Creating_ellipse_on_image_using_OpenCV(image, center_coordinates, axesLength, angle, startAngle, endAngle, color, thickness):\n",
    "  picture_after_drawing_ellipse = cv2.ellipse(image, center_coordinates, axesLength, angle, startAngle, endAngle, color, thickness)\n",
    "  return picture_after_drawing_ellipse"
   ]
  },
  {
   "cell_type": "code",
   "execution_count": 17,
   "metadata": {},
   "outputs": [],
   "source": [
    "output = Creating_ellipse_on_image_using_OpenCV(Picture_for_creating_ellipse_after_resize, (500, 500), (500, 250), 0, 0, 360, (0, 0, 255), 100)\n",
    "show_image_on_window(output, \"output\")"
   ]
  },
  {
   "cell_type": "code",
   "execution_count": 6,
   "metadata": {},
   "outputs": [],
   "source": [
    "# draw = False\n",
    "# ix, iy = -1,-1\n",
    "\n",
    "# def rectangle_shape(event,x,y,flagval,par):\n",
    "#     global draw,ix,iy\n",
    "    \n",
    "#     if event == cv2.EVENT_LBUTTONUP:\n",
    "#         draw = True\n",
    "#         ix,iy = x,y\n",
    "        \n",
    "#     elif event == cv2.EVENT_MOUSEMOVE:\n",
    "#         if draw == True:\n",
    "#             cv2.rectangle(image_window,(ix,iy),(x,y),(255,0,0),-1) \n",
    "            \n",
    "# image_window = np.zeros((1024,1024,3),np.uint8)\n",
    "\n",
    "# cv2.namedWindow(winname= 'Image_Window')\n",
    "\n",
    "# cv2.setMouseCallback('Image_Window', rectangle_shape)\n",
    "\n",
    "# while True:\n",
    "    \n",
    "#     cv2.imshow('Image_Window', image_window)\n",
    "    \n",
    "#     if cv2.waitKey(1) & 0xFF == 27:\n",
    "#         break\n",
    "    \n",
    "# cv2.destroyAllWindows()             "
   ]
  },
  {
   "attachments": {},
   "cell_type": "markdown",
   "metadata": {},
   "source": [
    "Create on picture by picture by inserting inside picture\n",
    "\n",
    "Reference : https://stackoverflow.com/questions/28327020/opencv-detect-mouse-position-clicking-over-a-picture (Opencv: detect mouse position clicking over a picture)"
   ]
  },
  {
   "cell_type": "code",
   "execution_count": 6,
   "metadata": {},
   "outputs": [
    {
     "ename": "NameError",
     "evalue": "name 'mouseX' is not defined",
     "output_type": "error",
     "traceback": [
      "\u001b[1;31m---------------------------------------------------------------------------\u001b[0m",
      "\u001b[1;31mNameError\u001b[0m                                 Traceback (most recent call last)",
      "Cell \u001b[1;32mIn[6], line 18\u001b[0m\n\u001b[0;32m     16\u001b[0m     \u001b[39mbreak\u001b[39;00m\n\u001b[0;32m     17\u001b[0m \u001b[39melif\u001b[39;00m k \u001b[39m==\u001b[39m \u001b[39mord\u001b[39m(\u001b[39m'\u001b[39m\u001b[39ma\u001b[39m\u001b[39m'\u001b[39m):\n\u001b[1;32m---> 18\u001b[0m     \u001b[39mprint\u001b[39m(mouseX)\n\u001b[0;32m     19\u001b[0m     \u001b[39mprint\u001b[39m(mouseY)\n",
      "\u001b[1;31mNameError\u001b[0m: name 'mouseX' is not defined"
     ]
    },
    {
     "ename": "",
     "evalue": "",
     "output_type": "error",
     "traceback": [
      "\u001b[1;31mThe Kernel crashed while executing code in the the current cell or a previous cell. Please review the code in the cell(s) to identify a possible cause of the failure. Click <a href='https://aka.ms/vscodeJupyterKernelCrash'>here</a> for more info. View Jupyter <a href='command:jupyter.viewOutput'>log</a> for further details."
     ]
    }
   ],
   "source": [
    "# Don't finish\n",
    "def draw_circle(event,x,y,flags,param):\n",
    "    global mouseX,mouseY\n",
    "    if event == cv2.EVENT_LBUTTONDBLCLK:\n",
    "        cv2.circle(img,(x,y),100,(255,0,0),-1)\n",
    "        mouseX,mouseY = x,y\n",
    "        \n",
    "img = np.zeros((512,512,3), np.uint8)\n",
    "cv2.namedWindow('image')\n",
    "cv2.setMouseCallback('image',draw_circle)\n",
    "\n",
    "while(1):\n",
    "    cv2.imshow('image',img)\n",
    "    k = cv2.waitKey(20) & 0xFF\n",
    "    if k == 27:\n",
    "        break\n",
    "    elif k == ord('a'):\n",
    "        print(mouseX)\n",
    "        print(mouseY)"
   ]
  },
  {
   "attachments": {},
   "cell_type": "markdown",
   "metadata": {},
   "source": [
    "Create_cycle_and_retangle_by_switching_mode\n",
    "\n",
    "Reference : https://docs.opencv.org/3.4/db/d5b/tutorial_py_mouse_handling.html"
   ]
  },
  {
   "cell_type": "code",
   "execution_count": null,
   "metadata": {},
   "outputs": [],
   "source": [
    "import numpy as np\n",
    "import cv2 as cv\n",
    "drawing = False # true if mouse is pressed\n",
    "mode = True # if True, draw rectangle. Press 'm' to toggle to curve\n",
    "ix,iy = -1,-1\n",
    "# mouse callback function\n",
    "def draw_circle(event,x,y,flags,param):\n",
    "    global ix,iy,drawing,mode\n",
    "    if event == cv.EVENT_LBUTTONDOWN:\n",
    "        drawing = True\n",
    "        ix,iy = x,y\n",
    "    elif event == cv.EVENT_MOUSEMOVE:\n",
    "        if drawing == True:\n",
    "            if mode == True:\n",
    "                cv.rectangle(img,(ix,iy),(x,y),(0,255,0),-1)\n",
    "            else:\n",
    "                cv.circle(img,(x,y),5,(0,0,255),-1)\n",
    "    elif event == cv.EVENT_LBUTTONUP:\n",
    "        drawing = False\n",
    "        if mode == True:\n",
    "            cv.rectangle(img,(ix,iy),(x,y),(0,255,0),-1)\n",
    "        else:\n",
    "            cv.circle(img,(x,y),5,(0,0,255),-1)\n",
    "            \n",
    "img = np.zeros((512,512,3), np.uint8)\n",
    "cv.namedWindow('image')\n",
    "cv.setMouseCallback('image',draw_circle)\n",
    "while(1):\n",
    "    cv.imshow('image',img)\n",
    "    k = cv.waitKey(1) & 0xFF\n",
    "    if k == ord('m'):\n",
    "        mode = not mode\n",
    "    elif k == 27:\n",
    "        break\n",
    "cv.destroyAllWindows()"
   ]
  },
  {
   "attachments": {},
   "cell_type": "markdown",
   "metadata": {},
   "source": [
    "Create_line_and_ellipse_by_switching_mode\n",
    "\n",
    "Reference : https://docs.opencv.org/3.4/db/d5b/tutorial_py_mouse_handling.html (Mouse as a Paint-Brush)\n",
    "\n",
    "https://www.geeksforgeeks.org/python-opencv-cv2-line-method/ (Python OpenCV | cv2.line() method)\n",
    "\n",
    "https://www.geeksforgeeks.org/python-opencv-cv2-ellipse-method/ (Python OpenCV | cv2.ellipse() method)"
   ]
  },
  {
   "attachments": {},
   "cell_type": "markdown",
   "metadata": {},
   "source": [
    "angle ที่ insert เข้าไปผิด"
   ]
  },
  {
   "cell_type": "code",
   "execution_count": null,
   "metadata": {},
   "outputs": [],
   "source": [
    "# Import Picture     \n",
    "picture_for_creating_ellipse = cv2.imread('wallpaper_neon_valley.jpg')\n",
    "picture_for_creating_ellipse_after_resize = cv2.resize(picture_for_creating_ellipse, (1280,720))\n",
    "\n",
    "# Create function for mouse tracking\n",
    "ix, iy = -1,-1 # the valiable to print out from def function to checking output\n",
    "count_click = 0\n",
    "position_major_start = (0,0)\n",
    "position_major_end = (0,0)\n",
    "position_minor_start = (0,0)\n",
    "position_minor_end = (0,0)\n",
    "mode_line_ellipse = True\n",
    "mode_major_minor = True\n",
    "\n",
    "# Parameter\n",
    "color = (0,0,255)\n",
    "thickness = 9\n",
    "startAngle = 0\n",
    "endAngle = 360\n",
    "\n",
    "def create_ellipse(event,x,y,flags,param):\n",
    "    global ix, iy, count_click, position_major_start, position_major_end, mode_line_ellipse, startAngle, endAngle, position_minor_end, position_minor_start\n",
    "    \n",
    "    if event == cv2.EVENT_LBUTTONDOWN:\n",
    "        ix,iy = x,y\n",
    "        # print(ix,iy)\n",
    "        if mode_major_minor == True:\n",
    "            if (count_click %2 == 0):\n",
    "                position_major_start = (ix,iy)\n",
    "                count_click += 1\n",
    "                print(\"position_major_start\" +\"(\"+ str(ix) +\",\"+ str(iy)+\")\")\n",
    "            else:\n",
    "                position_major_end = (ix,iy)\n",
    "                count_click += 1\n",
    "                print(\"position_major_end\" +\"(\"+ str(ix) +\",\"+ str(iy)+\")\")\n",
    "        \n",
    "        else :\n",
    "            if (count_click %2 == 0):\n",
    "                position_minor_start = (ix,iy)\n",
    "                count_click += 1\n",
    "                print(\"position_minor_start\" +\"(\"+ str(ix) +\",\"+ str(iy)+\")\")\n",
    "            else:\n",
    "                position_minor_end = (ix,iy)\n",
    "                count_click += 1\n",
    "                print(\"position_minor_end\" +\"(\"+ str(ix) +\",\"+ str(iy)+\")\")\n",
    "    \n",
    "    elif event == cv2.EVENT_RBUTTONDOWN:\n",
    "        # Calculate center_coordinates\n",
    "        centorx = int((position_major_start[0]+position_major_end[0])/2)\n",
    "        centory = int((position_major_start[1]+position_major_end[1])/2)\n",
    "        center_coordinates = (centorx,centory)\n",
    "        \n",
    "        # Calculate angle\n",
    "        angle = int(abs((math.atan((position_major_end[1]-position_major_start[1])/(position_major_end[0]-position_major_start[0])))*(180/3.14)))\n",
    "        \n",
    "        # Calculate axesLength\n",
    "        major_axes = int(math.sqrt((pow(position_major_start[0]-position_major_end[0],2))+(pow(position_major_start[1]-position_major_end[1],2))))\n",
    "        miner_axes = int(math.sqrt((pow(position_minor_start[0]-position_minor_end[0],2))+(pow(position_minor_start[1]-position_minor_end[1],2))))\n",
    "        axesLength = (major_axes ,miner_axes)\n",
    "        \n",
    "        if mode_line_ellipse == True:\n",
    "            cv2.line(picture_for_creating_ellipse_after_resize, position_major_start, position_major_end, color, thickness)\n",
    "        else:\n",
    "            cv2.ellipse(picture_for_creating_ellipse_after_resize, center_coordinates, axesLength, angle, startAngle, endAngle, color, thickness)\n",
    "    \n",
    "    \n",
    "# Setup using function mouse tracking\n",
    "cv2.namedWindow('image_test')\n",
    "cv2.setMouseCallback('image_test',create_ellipse)\n",
    "\n",
    "\n",
    "# Show Picture on window\n",
    "while(1):\n",
    "    cv2.imshow('image_test',picture_for_creating_ellipse_after_resize)\n",
    "    k = cv2.waitKey(1) & 0xFF\n",
    "    if k == ord('m'):\n",
    "        if(mode_line_ellipse == True):\n",
    "            print(\"mode Create Line\")\n",
    "        else:\n",
    "            print(\"mode Create ellipse\")\n",
    "        mode_line_ellipse = not mode_line_ellipse\n",
    "    elif k == ord('n'):\n",
    "        if(mode_major_minor == True):\n",
    "            print(\"mode major position\")\n",
    "        else:\n",
    "            print(\"mode miner position\")\n",
    "        mode_major_minor = not mode_major_minor\n",
    "    elif k == 27:\n",
    "        break\n",
    "\n",
    "cv2.destroyAllWindows() "
   ]
  }
 ],
 "metadata": {
  "kernelspec": {
   "display_name": "Python 3",
   "language": "python",
   "name": "python3"
  },
  "language_info": {
   "codemirror_mode": {
    "name": "ipython",
    "version": 3
   },
   "file_extension": ".py",
   "mimetype": "text/x-python",
   "name": "python",
   "nbconvert_exporter": "python",
   "pygments_lexer": "ipython3",
   "version": "3.10.8"
  },
  "orig_nbformat": 4
 },
 "nbformat": 4,
 "nbformat_minor": 2
}
